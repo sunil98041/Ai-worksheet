{
 "cells": [
  {
   "cell_type": "code",
   "execution_count": 248,
   "id": "440d981b-a520-4022-b3e0-c0b98de8fd6a",
   "metadata": {},
   "outputs": [],
   "source": [
    "import math\n",
    "import pandas as pd\n",
    "import numpy as np"
   ]
  },
  {
   "cell_type": "code",
   "execution_count": 9,
   "id": "5e9ffb2d-81fe-4841-ba01-6290e62e6f64",
   "metadata": {},
   "outputs": [
    {
     "name": "stdout",
     "output_type": "stream",
     "text": [
      "Hello, World\n",
      "Python version: 3.12.7 | packaged by Anaconda, Inc. | (main, Oct  4 2024, 13:17:27) [MSC v.1929 64 bit (AMD64)]\n"
     ]
    }
   ],
   "source": [
    "import sys\n",
    "if sys.version_info.major == 3 and sys.version_info.minor >=6:\n",
    "    print(\"Hello, World\")\n",
    "    print(f\"Python version: {sys.version}\")\n",
    "else:\n",
    "    print(\"Please use python 3.6 or higher\")"
   ]
  },
  {
   "cell_type": "code",
   "execution_count": 10,
   "id": "49a0033b-8fee-4f06-8db0-892ee56db7ee",
   "metadata": {},
   "outputs": [
    {
     "name": "stdout",
     "output_type": "stream",
     "text": [
      "Original List: [1, 2, 3]\n",
      "Modified List: [1, 2, 3, 4]\n",
      "My tuple:  (1, 2, 3)\n"
     ]
    }
   ],
   "source": [
    "my_list= [1,2,3]\n",
    "print(\"Original List:\", my_list)\n",
    "my_list.append(4)\n",
    "print(\"Modified List:\", my_list)\n",
    "\n",
    "my_tuple=(1,2,3)\n",
    "print(\"My tuple: \", my_tuple)"
   ]
  },
  {
   "cell_type": "code",
   "execution_count": 11,
   "id": "c03d30a0-7c14-4cdb-850d-bcb8fd247573",
   "metadata": {},
   "outputs": [
    {
     "name": "stdout",
     "output_type": "stream",
     "text": [
      "data type of variable age =  <class 'int'>\n",
      "data type of variable pi =  <class 'float'>\n",
      "data type of variable temperature =  <class 'float'>\n"
     ]
    }
   ],
   "source": [
    "age = 23 #int\n",
    "pi = 3.14 #float\n",
    "temperature = -5.5 #float\n",
    "print(\"data type of variable age = \", type(age))\n",
    "print(\"data type of variable pi = \", type(pi))\n",
    "print(\"data type of variable temperature = \", type(temperature))"
   ]
  },
  {
   "cell_type": "code",
   "execution_count": 12,
   "id": "f0d0150c-3548-42ba-85a0-38ce3e2d3413",
   "metadata": {},
   "outputs": [
    {
     "name": "stdout",
     "output_type": "stream",
     "text": [
      "data type of the variable name =  <class 'str'>\n",
      "data type of the variable greeting =  <class 'str'>\n",
      "data type of the variable address =  <class 'str'>\n",
      "The first letter of the name is: A\n",
      "The last letter of the name is: e\n",
      "The second letter to the fourth of the name is: lic\n",
      "The first two letters of the name are: Al\n",
      "Substring starting from the third letter is: ice\n"
     ]
    }
   ],
   "source": [
    "name = \"Alice\"\n",
    "greeting = 'Hello'\n",
    "address = \"123 Main St\"\n",
    "print(\"data type of the variable name = \",type(name))\n",
    "print(\"data type of the variable greeting = \",type(greeting))\n",
    "print(\"data type of the variable address = \",type(address))\n",
    "# slice only one element\n",
    "print(\"The first letter of the name is:\", name[0])\n",
    "print(\"The last letter of the name is:\", name[-1])\n",
    "# slice a range of elements\n",
    "print(\"The second letter to the fourth of the name is:\", name[1:4])\n",
    "print(\"The first two letters of the name are:\", name[:2])\n",
    "print(\"Substring starting from the third letter is:\", name[2:])"
   ]
  },
  {
   "cell_type": "code",
   "execution_count": 13,
   "id": "00daa7ec-f671-4382-a4b6-3a9577cee0f0",
   "metadata": {},
   "outputs": [
    {
     "data": {
      "text/plain": [
       "[False, 'Hello', True]"
      ]
     },
     "execution_count": 13,
     "metadata": {},
     "output_type": "execute_result"
    }
   ],
   "source": [
    "list1 = [1, 2, 3, 4]\n",
    "mixed_list = [12, \"Hello\", True]\n",
    "# List is mutable\n",
    "mixed_list[0] = False\n",
    "mixed_list"
   ]
  },
  {
   "cell_type": "code",
   "execution_count": 14,
   "id": "3d2dcd0c-6e03-4872-8572-7184c1fad62c",
   "metadata": {},
   "outputs": [
    {
     "name": "stdout",
     "output_type": "stream",
     "text": [
      "First element: red\n",
      "Last two elements: ('yellow', 'blue')\n",
      "Middle two elements: ('green', 'yellow')\n"
     ]
    },
    {
     "ename": "TypeError",
     "evalue": "'tuple' object does not support item assignment",
     "output_type": "error",
     "traceback": [
      "\u001b[1;31m---------------------------------------------------------------------------\u001b[0m",
      "\u001b[1;31mTypeError\u001b[0m                                 Traceback (most recent call last)",
      "Cell \u001b[1;32mIn[14], line 5\u001b[0m\n\u001b[0;32m      3\u001b[0m \u001b[38;5;28mprint\u001b[39m(\u001b[38;5;124m\"\u001b[39m\u001b[38;5;124mLast two elements:\u001b[39m\u001b[38;5;124m\"\u001b[39m, colors[\u001b[38;5;241m2\u001b[39m:])\n\u001b[0;32m      4\u001b[0m \u001b[38;5;28mprint\u001b[39m(\u001b[38;5;124m\"\u001b[39m\u001b[38;5;124mMiddle two elements:\u001b[39m\u001b[38;5;124m\"\u001b[39m, colors[\u001b[38;5;241m1\u001b[39m:\u001b[38;5;241m3\u001b[39m])\n\u001b[1;32m----> 5\u001b[0m colors[\u001b[38;5;241m0\u001b[39m] \u001b[38;5;241m=\u001b[39m \u001b[38;5;124m\"\u001b[39m\u001b[38;5;124mpurple\u001b[39m\u001b[38;5;124m\"\u001b[39m\n\u001b[0;32m      7\u001b[0m colors\n",
      "\u001b[1;31mTypeError\u001b[0m: 'tuple' object does not support item assignment"
     ]
    }
   ],
   "source": [
    "colors = (\"red\",\"green\", \"yellow\", \"blue\")\n",
    "print(\"First element:\", colors[0])\n",
    "print(\"Last two elements:\", colors[2:])\n",
    "print(\"Middle two elements:\", colors[1:3])\n",
    "colors[0] = \"purple\"\n",
    "\n",
    "colors # will generate an error as tuple is immutable."
   ]
  },
  {
   "cell_type": "code",
   "execution_count": 22,
   "id": "f1cacb60-cdee-4ac7-a8cf-fcfd4a36bd5e",
   "metadata": {},
   "outputs": [
    {
     "name": "stdout",
     "output_type": "stream",
     "text": [
      "Hello my name is John. I am 30 years old and I live at Pittsburgh\n",
      "All keys: ['name', 'age', 'city']\n",
      "All values: ['John', 30, 'Pittsburgh']\n"
     ]
    }
   ],
   "source": [
    "person = {\"name\":\"John\",\"age\":30,\"city\":\"Pittsburgh\"}\n",
    "print(f\"Hello my name is {person[\"name\"]}. I am {person[\"age\"]} years old and I live at {person[\"city\"]}\")\n",
    "print(\"All keys:\", list(person.keys()))\n",
    "print(\"All values:\", list(person.values()))"
   ]
  },
  {
   "cell_type": "code",
   "execution_count": 24,
   "id": "87e54871-224b-4679-a826-6555afb6bdc3",
   "metadata": {},
   "outputs": [
    {
     "name": "stdout",
     "output_type": "stream",
     "text": [
      "{1, 2, 3, 4, 5}\n"
     ]
    }
   ],
   "source": [
    "unique_numbers = {1,2,3,3,3,3,4,5}\n",
    "print(unique_numbers)"
   ]
  },
  {
   "cell_type": "code",
   "execution_count": 26,
   "id": "b04e5001-f9cc-4b8d-96d7-b66bc2795419",
   "metadata": {},
   "outputs": [
    {
     "name": "stdout",
     "output_type": "stream",
     "text": [
      "data type of the variable is_student =  <class 'bool'>\n",
      "data type of the variable has_license =  <class 'bool'>\n"
     ]
    }
   ],
   "source": [
    "is_student = True\n",
    "has_license = False\n",
    "print(\"data type of the variable is_student = \",type(is_student))\n",
    "print(\"data type of the variable has_license = \",type(has_license))"
   ]
  },
  {
   "cell_type": "code",
   "execution_count": 28,
   "id": "16d74c18-e85a-4411-b716-df607d20c574",
   "metadata": {},
   "outputs": [
    {
     "name": "stdout",
     "output_type": "stream",
     "text": [
      "Either a or b is False\n",
      "At least one of a or b is True\n",
      "a is True\n"
     ]
    }
   ],
   "source": [
    "# Define two boolean variables\n",
    "a = True\n",
    "b = False\n",
    "# Using the \"and\" operator\n",
    "if a and b:\n",
    "    print(\"Both a and b are True\")\n",
    "else:\n",
    "    print(\"Either a or b is False\") # This will be printed\n",
    "# Using the \"or\" operator\n",
    "if a or b:\n",
    "    print(\"At least one of a or b is True\") # This will be printed\n",
    "else:\n",
    "    print(\"Both a and b are False\")\n",
    "# Using the \"not\" operator\n",
    "if not a:\n",
    "    print(\"a is False\") # This will not be printed\n",
    "else:\n",
    "    print(\"a is True\") # This will be printed"
   ]
  },
  {
   "cell_type": "code",
   "execution_count": 30,
   "id": "ed2ab659-85b4-4683-88c5-ac09d26f007c",
   "metadata": {},
   "outputs": [
    {
     "name": "stdout",
     "output_type": "stream",
     "text": [
      "apple\n",
      "banana\n",
      "cherry\n",
      "Count is: 0\n",
      "Count is: 1\n",
      "Count is: 2\n",
      "Count is: 3\n",
      "Count is: 4\n",
      "loop 1\n",
      "apple\n",
      "loop 2\n",
      "banana\n",
      "orange\n"
     ]
    }
   ],
   "source": [
    "# for loop:\n",
    "fruits = [\"apple\", \"banana\",\"cherry\"]\n",
    "for fruit in fruits:\n",
    "    print(fruit)\n",
    "# While loop:\n",
    "count = 0\n",
    "while count < 5:\n",
    "    print(\"Count is:\", count)\n",
    "    count += 1\n",
    "# Break\n",
    "fruits = [\"apple\", \"banana\", \"orange\"]\n",
    "print(\"loop 1\")\n",
    "for fruit in fruits:\n",
    "    print(fruit)\n",
    "    if fruit == \"apple\":\n",
    "        break\n",
    "# Continiue\n",
    "print(\"loop 2\")\n",
    "for fruit in fruits:\n",
    "    if fruit == \"apple\":\n",
    "        continue\n",
    "    else:\n",
    "        print(fruit)"
   ]
  },
  {
   "cell_type": "code",
   "execution_count": 40,
   "id": "1817e322-4e23-4e2b-8cf8-d826d0025f09",
   "metadata": {},
   "outputs": [],
   "source": [
    "def add_binary(a, b):\n",
    "    '''\n",
    "    Returns the sum of two decimal numbers in binary digits.\n",
    "    Parameters:\n",
    "    a (int): A decimal integer\n",
    "    b (int): Another decimal integer\n",
    "    Returns:\n",
    "    binary_sum (str): Binary string of the sum of a and b\n",
    "    '''\n",
    "    binary_sum = bin(a+b)[2:]\n",
    "    return binary_sum"
   ]
  },
  {
   "cell_type": "code",
   "execution_count": 42,
   "id": "9ba547ba-e0dc-480d-a2e8-60ad530a9e29",
   "metadata": {},
   "outputs": [
    {
     "name": "stdout",
     "output_type": "stream",
     "text": [
      "Hello, World!\n"
     ]
    }
   ],
   "source": [
    "print(\"Hello, World!\") # Output: Hello, World!\n",
    "length = len(\"Hello\") # Output: 5\n",
    "data_type = type(42) # Output: <class \"int\">\n",
    "total = sum([1, 2, 3]) # Output: 6"
   ]
  },
  {
   "cell_type": "code",
   "execution_count": 46,
   "id": "c1618622-d0fb-49ca-b911-d720147475ff",
   "metadata": {},
   "outputs": [
    {
     "name": "stdout",
     "output_type": "stream",
     "text": [
      "25\n"
     ]
    }
   ],
   "source": [
    "# str.upper(): Converts all characters in a string to uppercase.\n",
    "message = \"hello\".upper() # Output: \"HELLO\"\n",
    "# list.append(): Adds an element to the end of a list.\n",
    "fruits = [\"apple\", \"banana\"]\n",
    "fruits.append(\"cherry\") # Output: [\"apple\", \"banana\", \"cherry\"]\n",
    "# dict.get(): Returns the value associated with a key in a dictionary.\n",
    "info = {\"name\": \"Alice\", \"age\": 25}\n",
    "age = info.get(\"age\") # Output: 25\n",
    "print(age)"
   ]
  },
  {
   "cell_type": "code",
   "execution_count": 52,
   "id": "c4bb3491-0489-41e2-ad4e-ea8d80d0e9fe",
   "metadata": {},
   "outputs": [
    {
     "name": "stdout",
     "output_type": "stream",
     "text": [
      "Choose conversion type:\n",
      "1. Celsius to Fahrenheit\n",
      "2. Fahrenheit to Celsius\n"
     ]
    },
    {
     "name": "stdin",
     "output_type": "stream",
     "text": [
      "Enter 1 or 2:  2\n",
      "Enter temperature in Fahrenheit:  100\n"
     ]
    },
    {
     "name": "stdout",
     "output_type": "stream",
     "text": [
      "100.0F is equal to 37.77777777777778C\n"
     ]
    },
    {
     "data": {
      "text/plain": [
       "37.77777777777778"
      ]
     },
     "execution_count": 52,
     "metadata": {},
     "output_type": "execute_result"
    }
   ],
   "source": [
    "def temperature_converter():\n",
    "    \"\"\"\n",
    "    Converts temperature between Celsius and Fahrenheit.\n",
    "    This function prompts the user to specify the conversion type (Celsius to Fahrenheit or\n",
    "    Fahrenheit to Celsius)\n",
    "    and then asks for the temperature value. It calculates and returns the converted temperature.\n",
    "    Returns:\n",
    "    float: The converted temperature value.\n",
    "    \"\"\"\n",
    "    print(\"Choose conversion type:\")\n",
    "    print(\"1. Celsius to Fahrenheit\")\n",
    "    print(\"2. Fahrenheit to Celsius\")\n",
    "    # Get conversion choice from user\n",
    "    choice = input(\"Enter 1 or 2: \")\n",
    "    if choice == \"1\":\n",
    "    # Celsius to Fahrenheit conversion\n",
    "        celsius = float(input(\"Enter temperature in Celsius: \"))\n",
    "        fahrenheit = (celsius * 9/5) + 32\n",
    "        print(f\"{celsius}C is equal to {fahrenheit}F\")\n",
    "        return fahrenheit\n",
    "    elif choice == \"2\":\n",
    "    # Fahrenheit to Celsius conversion\n",
    "        fahrenheit = float(input(\"Enter temperature in Fahrenheit: \"))\n",
    "        celsius = (fahrenheit - 32) * 5/9\n",
    "        print(f\"{fahrenheit}F is equal to {celsius}C\")\n",
    "        return celsius\n",
    "    else:\n",
    "        print(\"Invalid choice. Please enter 1 or 2.\")\n",
    "    return None\n",
    "# Call the function\n",
    "temperature_converter()"
   ]
  },
  {
   "cell_type": "code",
   "execution_count": 56,
   "id": "dc0d81aa-8c2a-41f1-b65b-caf01e12fa66",
   "metadata": {},
   "outputs": [
    {
     "name": "stdout",
     "output_type": "stream",
     "text": [
      "10\n"
     ]
    }
   ],
   "source": [
    "x = 10 # Global Variable.\n",
    "def print_global():\n",
    "    print(x) # Accessing global variable\n",
    "print_global() # Output: 10"
   ]
  },
  {
   "cell_type": "code",
   "execution_count": 58,
   "id": "6560a828-f50f-4808-aea8-b018677657a2",
   "metadata": {},
   "outputs": [
    {
     "name": "stdout",
     "output_type": "stream",
     "text": [
      "5\n"
     ]
    },
    {
     "ename": "NameError",
     "evalue": "name 'y' is not defined",
     "output_type": "error",
     "traceback": [
      "\u001b[1;31m---------------------------------------------------------------------------\u001b[0m",
      "\u001b[1;31mNameError\u001b[0m                                 Traceback (most recent call last)",
      "Cell \u001b[1;32mIn[58], line 5\u001b[0m\n\u001b[0;32m      3\u001b[0m     \u001b[38;5;28mprint\u001b[39m(y)\n\u001b[0;32m      4\u001b[0m print_local() \u001b[38;5;66;03m# Output: 5\u001b[39;00m\n\u001b[1;32m----> 5\u001b[0m \u001b[38;5;28mprint\u001b[39m(y)\n",
      "\u001b[1;31mNameError\u001b[0m: name 'y' is not defined"
     ]
    }
   ],
   "source": [
    "def print_local():\n",
    "    y = 5 # Local variable\n",
    "    print(y)\n",
    "print_local() # Output: 5\n",
    "print(y) # T"
   ]
  },
  {
   "cell_type": "code",
   "execution_count": 66,
   "id": "c961c352-f955-4c7e-a931-c5c8f3d63fb7",
   "metadata": {},
   "outputs": [
    {
     "name": "stdout",
     "output_type": "stream",
     "text": [
      "20\n"
     ]
    }
   ],
   "source": [
    "x = 10 # Global variable\n",
    "def modify_global():\n",
    "    global x # Declaring x as global\n",
    "    x = 20 # Modifying global x\n",
    "modify_global()\n",
    "print(x) # Output: 20"
   ]
  },
  {
   "cell_type": "markdown",
   "id": "a0d4e210-0b7a-4949-ba96-134b75783780",
   "metadata": {},
   "source": [
    "# Exercises"
   ]
  },
  {
   "cell_type": "markdown",
   "id": "47891135-74f5-4658-9f34-dab3a88b5f39",
   "metadata": {},
   "source": [
    "Task - 1:\n",
    "Create a Python program that converts between different units of measurement.\n",
    "• The program should:\n",
    "1. Prompt the user to choose the type of conversion (e.g., length, weight, volume).\n",
    "2. Ask the user to input the value to be converted.\n",
    "3. Perform the conversion and display the result.\n",
    "4. Handle potential errors, such as invalid input or unsupported conversion types"
   ]
  },
  {
   "cell_type": "code",
   "execution_count": 85,
   "id": "00dc5c9f-3a2b-4d93-b576-be41710b8d6f",
   "metadata": {},
   "outputs": [
    {
     "name": "stdin",
     "output_type": "stream",
     "text": [
      "Choose conversion type length, weight , or volume: type(l,w,v):   l\n",
      "Enter value you want to convert:  50\n",
      "Enter unit to convert from (e.g.,meter,kilometer,centimeter): centimeter\n",
      "Enter unit to convert to (e.g.,meter,kilometer,centimeter): meter\n"
     ]
    },
    {
     "name": "stdout",
     "output_type": "stream",
     "text": [
      "50.0centimeter is equal to 0.5meter\n"
     ]
    }
   ],
   "source": [
    "def convert_unit(value, entry, output,  dictionary):\n",
    "    if entry not in dictionary or output not in dictionary:\n",
    "        return \"Error/;  Invalid units\"\n",
    "\n",
    "    base_value = value * dictionary[entry]\n",
    "    result = base_value / dictionary[output]\n",
    "    return result\n",
    "\n",
    "def main():\n",
    "    try:\n",
    "        convert = input(\"Choose conversion type length, weight , or volume: type(l,w,v):  \").lower()\n",
    "\n",
    "        length = {'meter':1,'kilometer':1000, 'centimeter':0.01}\n",
    "        weight = {'kilograms':1,'gram':0.001,'pound':0.4535}\n",
    "        volume = {'liter':1,'mililiter':0.001,'gallon':3.7854}\n",
    "\n",
    "\n",
    "        if convert == 'l':\n",
    "            unit = length\n",
    "        elif convert == 'w':\n",
    "            unit = weight\n",
    "        elif convert =='v':\n",
    "            unit = volume\n",
    "        else:\n",
    "            print(\"Error:Invalid conversion type\")\n",
    "            return\n",
    "\n",
    "        value = float(input(\"Enter value you want to convert: \"))\n",
    "        entry = input(f\"Enter unit to convert from (e.g.,{','.join(unit.keys())}):\").lower()\n",
    "        output = input(f\"Enter unit to convert to (e.g.,{','.join(unit.keys())}):\").lower()\n",
    "\n",
    "        result = convert_unit(value,entry,output,unit)\n",
    "\n",
    "        if isinstance(result,str):\n",
    "            print(result)\n",
    "        else:\n",
    "            print(f\"{value}{entry} is equal to {result}{output}\")\n",
    "    except ValueError:\n",
    "        print(\"Error: Please enter a valid numeral\")\n",
    "    except Exception as e:\n",
    "        print(f\"An unexpected error occured : {e}\")\n",
    "\n",
    "if __name__==\"__main__\":\n",
    "    main()\n"
   ]
  },
  {
   "cell_type": "markdown",
   "id": "32d6230c-6559-4952-8ea5-8a780738daa6",
   "metadata": {},
   "source": [
    "Create a Python program that performs various mathematical operations on a list of numbers.\n",
    "• The Program should:\n",
    "1. Prompt the user to choose an operation (e.g., find the sum, average, maximum, or minimum\n",
    "of the numbers).\n",
    "2. Ask the user to input a list of numbers (separated by spaces).\n",
    "3. Perform the selected operation and display the result.\n",
    "4. Handle potential errors, such as invalid input or empty lists.\n",
    "• Requirements:\n",
    "\n",
    "1. Functions: Define at least one function for each operation (sum, average, maximum, mini-\n",
    "mum).\n",
    "\n",
    "2. Error Handling: Use try-except blocks to handle invalid input (e.g., non-numeric values or\n",
    "empty lists).\n",
    "3. User Input: Prompt the user to select the operation and input the list of numbers.\n",
    "4. Docstrings: Include a docstring in each function to describe its purpose, parameters, and\n",
    "return value."
   ]
  },
  {
   "cell_type": "code",
   "execution_count": 109,
   "id": "84796a4c-0908-4490-a670-fac617093011",
   "metadata": {},
   "outputs": [
    {
     "name": "stdout",
     "output_type": "stream",
     "text": [
      "Choose any one option:\n",
      "1 for sum\n",
      "2 for Average\n",
      "3 for Maximum\n",
      "4 for Minimum\n"
     ]
    },
    {
     "name": "stdin",
     "output_type": "stream",
     "text": [
      "Enter the number correspondance to choices:  4\n",
      "Enter a list of numbers separated by spaces:  23 43 54 12.5\n"
     ]
    },
    {
     "name": "stdout",
     "output_type": "stream",
     "text": [
      "The Minimum of numbers is: 12.5\n"
     ]
    }
   ],
   "source": [
    "def calc_sum(numbers):\n",
    "    '''\n",
    "    Calculate sum from list of numbers. Parameter here is a list \n",
    "    return a float sum of numbers\n",
    "    '''\n",
    "    return sum(numbers)\n",
    "\n",
    "def calc_avg(numbers):\n",
    "    '''\n",
    "    Calculate average from list of numbers. Parameter here is a list \n",
    "    return a float average of numbers\n",
    "    '''\n",
    "    if len(numbers) == 0:\n",
    "        raise ValueError(\"Cannot calculate average of an empty list\")\n",
    "    return sum(numbers) / len(numbers)\n",
    "\n",
    "def calc_max(numbers):\n",
    "    '''\n",
    "    Calculate maximum value from list of numbers. Parameter here is a list \n",
    "    return a maximum value among numbers\n",
    "    '''\n",
    "    if len(numbers) == 0:\n",
    "        raise ValueError(\"Cannot calculate maximum of an empty list\")\n",
    "    return max(numbers)\n",
    "\n",
    "def calc_min(numbers):\n",
    "    '''\n",
    "    Calculate minimum value from list of numbers. Parameter here is a list \n",
    "    return a minimum value among numbers\n",
    "    '''\n",
    "    if len(numbers) == 0:\n",
    "        raise ValueError(\"Cannot calculate minimum of an empty list\")\n",
    "    return min(numbers)\n",
    "\n",
    "def main():\n",
    "    try:\n",
    "        print(\"Choose any one option:\")\n",
    "        print(\"1 for sum\")\n",
    "        print(\"2 for Average\")\n",
    "        print(\"3 for Maximum\")\n",
    "        print(\"4 for Minimum\")\n",
    "\n",
    "        operation = int(input(\"Enter the number correspondance to choices: \"))\n",
    "\n",
    "        input_number = input(\"Enter a list of numbers separated by spaces: \")\n",
    "\n",
    "        numbers = [float(num) for num in input_number.split()]\n",
    "\n",
    "        if len(numbers) == 0:\n",
    "            print(\"Error: The list can't be empty\")\n",
    "\n",
    "        if operation == 1:\n",
    "            result = calc_sum(numbers)\n",
    "            print(\"The sum of numbers is:\",result)\n",
    "        elif operation == 2:\n",
    "            result = calc_avg(numbers)\n",
    "            print(\"The average of numbers is:\",result)\n",
    "        elif operation == 3:\n",
    "            result = calc_max(numbers)\n",
    "            print(\"The Maximum of numbers is:\",result)\n",
    "        elif operation == 4:\n",
    "            result = calc_min(numbers)\n",
    "            print(\"The Minimum of numbers is:\",result)\n",
    "        else:\n",
    "            print(\"Error: invalid choices\")\n",
    "    except ValueError as e:\n",
    "        print(f\"Error: {e}\")\n",
    "    except Exception as e:\n",
    "        print(f\"An unexpected error occures: {e}\")\n",
    "\n",
    "if __name__ == \"__main__\":\n",
    "    main()"
   ]
  },
  {
   "cell_type": "markdown",
   "id": "aa40eb36-e735-4d13-8d32-57d00412663b",
   "metadata": {},
   "source": [
    "# 4.2 Exercise on List Manipulation:"
   ]
  },
  {
   "cell_type": "markdown",
   "id": "52ea1e0c-a2c0-4aa3-9e01-79c91d016523",
   "metadata": {},
   "source": [
    "1. Extract Every Other Element:\n",
    "Write a Python function that extracts every other element from a list, starting from the first element.\n",
    "• Requirements:\n",
    "– Define a function extract every other(lst) that takes a list lst as input and returns a\n",
    "new list containing every other element from the original list.\n",
    "– Example: For the input [1, 2, 3, 4, 5, 6], the output should be [1, 3, 5]."
   ]
  },
  {
   "cell_type": "code",
   "execution_count": 116,
   "id": "e695e335-e159-4a67-b543-cd832f6e7e00",
   "metadata": {},
   "outputs": [
    {
     "name": "stdout",
     "output_type": "stream",
     "text": [
      "After every second elements elimination lst looks like:  [1, 3, 5]\n"
     ]
    }
   ],
   "source": [
    "def extract_every_other(lst):   \n",
    "    return lst[::2]\n",
    "\n",
    "def main():\n",
    "    lst = [1,2,3,4,5,6]\n",
    "    result = extract_every_other(lst)\n",
    "    print(\"After every second elements elimination lst looks like: \", result)\n",
    "\n",
    "if __name__ == \"__main__\":\n",
    "    main()"
   ]
  },
  {
   "cell_type": "markdown",
   "id": "95ba3593-33da-494f-82ab-76358e1361f0",
   "metadata": {},
   "source": [
    "2. Slice a Sublist:\n",
    "Write a Python function that returns a sublist from a given list, starting from a specified index and\n",
    "ending at another specified index.\n",
    "• Requirements:\n",
    "– Define a function get sublist(lst, start, end) that takes a list lst, a starting index\n",
    "start, and an ending index end as input and returns the sublist from start to end (inclusive).\n",
    "– Example: For the input [1, 2, 3, 4, 5, 6] with start=2 and end=4, the output should\n",
    "be [3, 4, 5]."
   ]
  },
  {
   "cell_type": "code",
   "execution_count": 120,
   "id": "2c4b5629-5276-47cc-8489-9bc6fad82530",
   "metadata": {},
   "outputs": [
    {
     "name": "stdin",
     "output_type": "stream",
     "text": [
      "Enter a list of numbers separated by spaces:  34 54 34 12 32 98 07 \n"
     ]
    },
    {
     "name": "stdout",
     "output_type": "stream",
     "text": [
      "Your list is:  [34.0, 54.0, 34.0, 12.0, 32.0, 98.0, 7.0]\n"
     ]
    },
    {
     "name": "stdin",
     "output_type": "stream",
     "text": [
      "Enter starting point for sub list 2\n",
      "Enter ending point for sub list 5\n"
     ]
    },
    {
     "name": "stdout",
     "output_type": "stream",
     "text": [
      "Your sublist look like  [34.0, 12.0, 32.0, 98.0]\n"
     ]
    }
   ],
   "source": [
    "def sublist(lst,start,end):        \n",
    "    return lst[start:end+1]\n",
    "\n",
    "def main():\n",
    "    input_number = input(\"Enter a list of numbers separated by spaces: \")\n",
    "    lst = [float(num) for num in input_number.split()]\n",
    "    print(\"Your list is: \", lst)\n",
    "    start = int(input(\"Enter starting point for sub list\"))\n",
    "    end = int(input(\"Enter ending point for sub list\")    )\n",
    "    result = sublist(lst,start,end)\n",
    "    print(\"Your sublist look like \", result)\n",
    "\n",
    "if __name__ == \"__main__\":\n",
    "    main()"
   ]
  },
  {
   "cell_type": "markdown",
   "id": "40a5f153-2a8a-4e36-848e-85ced2003520",
   "metadata": {},
   "source": [
    "3. Reverse a List Using Slicing:\n",
    "Write a Python function that reverses a list using slicing.\n",
    "• Requirements:\n",
    "– Define a function reverse list(lst) that takes a list lst and returns a reversed list using\n",
    "slicing.\n",
    "– Example: For the input [1, 2, 3, 4, 5], the output should be [5, 4, 3, 2, 1]."
   ]
  },
  {
   "cell_type": "code",
   "execution_count": 122,
   "id": "cc3dddcd-ccde-4a70-a4cb-881ef48fc377",
   "metadata": {},
   "outputs": [
    {
     "name": "stdin",
     "output_type": "stream",
     "text": [
      "Enter a list of numbers separated by spaces:  32 44 12 97 85\n"
     ]
    },
    {
     "name": "stdout",
     "output_type": "stream",
     "text": [
      "Your list is:  [32.0, 44.0, 12.0, 97.0, 85.0]\n",
      "Your reversed list look like  [85.0, 97.0, 12.0, 44.0, 32.0]\n"
     ]
    }
   ],
   "source": [
    "def reverse(lst):        \n",
    "    return lst[::-1]\n",
    "\n",
    "def main():\n",
    "    input_number = input(\"Enter a list of numbers separated by spaces: \")\n",
    "    lst = [float(num) for num in input_number.split()]\n",
    "    print(\"Your list is: \", lst)\n",
    "    \n",
    "    result = reverse(lst)\n",
    "    print(\"Your reversed list look like \", result)\n",
    "\n",
    "if __name__ == \"__main__\":\n",
    "    main()"
   ]
  },
  {
   "cell_type": "markdown",
   "id": "b878ba24-2a2e-4cc2-80c8-df216f3b73a3",
   "metadata": {},
   "source": [
    "4. Remove the First and Last Elements:\n",
    "Write a Python function that removes the first and last elements of a list and returns the resulting\n",
    "sublist.\n",
    "• Requirements:\n",
    "– Define a function remove first last(lst) that takes a list lst and returns a sublist without\n",
    "the first and last elements using slicing.\n",
    "– Example: For the input [1, 2, 3, 4, 5], the output should be [2, 3, 4]."
   ]
  },
  {
   "cell_type": "code",
   "execution_count": 132,
   "id": "2ea46993-8412-498c-94fd-b78172080dc0",
   "metadata": {},
   "outputs": [
    {
     "name": "stdin",
     "output_type": "stream",
     "text": [
      "Enter a list of numbers separated by spaces:  12 32 44 12 32 33 \n"
     ]
    },
    {
     "name": "stdout",
     "output_type": "stream",
     "text": [
      "Your list is:  [12.0, 32.0, 44.0, 12.0, 32.0, 33.0]\n",
      "Your sublist look like  [32.0, 44.0, 12.0, 32.0]\n"
     ]
    }
   ],
   "source": [
    "def newlist(lst):        \n",
    "    return lst[1:-1]\n",
    "\n",
    "def main():\n",
    "    input_number = input(\"Enter a list of numbers separated by spaces: \")\n",
    "    lst = [float(num) for num in input_number.split()]\n",
    "    print(\"Your list is: \", lst)\n",
    "    result = newlist(lst)\n",
    "    print(\"Your sublist look like \", result)\n",
    "\n",
    "if __name__ == \"__main__\":\n",
    "    main()"
   ]
  },
  {
   "cell_type": "markdown",
   "id": "a1642e2a-6894-47f3-a066-25a67f7b5339",
   "metadata": {},
   "source": [
    "Get the First n Elements:\n",
    "Write a Python function that extracts the first n elements from a list.\n",
    "• Requirements:\n",
    "– Define a function get first n(lst, n) that takes a list lst and an integer n as input and\n",
    "returns the first n elements of the list using slicing.\n",
    "– Example: For the input [1, 2, 3, 4, 5] with n=3, the output should be [1, 2, 3]."
   ]
  },
  {
   "cell_type": "code",
   "execution_count": 136,
   "id": "a8b49239-d669-48b7-b141-7b827f1f4730",
   "metadata": {},
   "outputs": [
    {
     "name": "stdin",
     "output_type": "stream",
     "text": [
      "Enter a list of numbers separated by spaces:  12 32 42 12 34\n"
     ]
    },
    {
     "name": "stdout",
     "output_type": "stream",
     "text": [
      "Your list is:  [12.0, 32.0, 42.0, 12.0, 34.0]\n"
     ]
    },
    {
     "name": "stdin",
     "output_type": "stream",
     "text": [
      "Enter n elemnts to extract from list 2\n"
     ]
    },
    {
     "name": "stdout",
     "output_type": "stream",
     "text": [
      "Your n element from start look like  [12.0, 32.0]\n"
     ]
    }
   ],
   "source": [
    "def get_first_n(lst,n):        \n",
    "    return lst[:n]\n",
    "\n",
    "def main():\n",
    "    input_number = input(\"Enter a list of numbers separated by spaces: \")\n",
    "    lst = [float(num) for num in input_number.split()]\n",
    "    print(\"Your list is: \", lst)\n",
    "    search = int(input(\"Enter n elemnts to extract from list\"))\n",
    "    \n",
    "    result = get_first_n(lst,search)\n",
    "    print(\"Your n element from start look like \", result)\n",
    "\n",
    "if __name__ == \"__main__\":\n",
    "    main()"
   ]
  },
  {
   "cell_type": "markdown",
   "id": "e2b87a82-edaa-4b01-b498-9cd0a000707e",
   "metadata": {},
   "source": [
    "6. Extract Elements from the End:\n",
    "Write a Python function that extracts the last n elements of a list using slicing.\n",
    "• Requirements:\n",
    "– Define a function get last n(lst, n) that takes a list lst and an integer n as input and\n",
    "returns the last n elements of the list.\n",
    "– Example: For the input [1, 2, 3, 4, 5] with n=2, the output should be [4, 5]."
   ]
  },
  {
   "cell_type": "code",
   "execution_count": 148,
   "id": "ab3a2927-2d11-4034-90db-62f0e994e231",
   "metadata": {},
   "outputs": [
    {
     "name": "stdin",
     "output_type": "stream",
     "text": [
      "Enter a list of numbers separated by spaces:  12 32 44 13 54\n"
     ]
    },
    {
     "name": "stdout",
     "output_type": "stream",
     "text": [
      "Your list is:  [12.0, 32.0, 44.0, 13.0, 54.0]\n"
     ]
    },
    {
     "name": "stdin",
     "output_type": "stream",
     "text": [
      "Enter n elemnts to extract from list 2\n"
     ]
    },
    {
     "name": "stdout",
     "output_type": "stream",
     "text": [
      "Your sublist look like  [13.0, 54.0]\n"
     ]
    }
   ],
   "source": [
    "def get_last_n(lst,n):        \n",
    "    return lst[-n:]\n",
    "\n",
    "def main():\n",
    "    input_number = input(\"Enter a list of numbers separated by spaces: \")\n",
    "    lst = [float(num) for num in input_number.split()]\n",
    "    print(\"Your list is: \", lst)\n",
    "    search = int(input(\"Enter n elemnts to extract from list\"))\n",
    "    \n",
    "    result = get_last_n(lst,search)\n",
    "    print(\"Your sublist look like \", result)\n",
    "\n",
    "if __name__ == \"__main__\":\n",
    "    main()"
   ]
  },
  {
   "cell_type": "markdown",
   "id": "c4aa4adb-3d35-4391-9a4e-0650a0375c24",
   "metadata": {},
   "source": [
    "Extract Elements in Reverse Order:\n",
    "Write a Python function that extracts a list of elements in reverse order starting from the second-to-last\n",
    "element and skipping one element in between.\n",
    "• Requirements:\n",
    "– Define a function reverse skip(lst) that takes a list lst and returns a new list containing\n",
    "every second element starting from the second-to-last, moving backward.\n",
    "– Example: For the input [1, 2, 3, 4, 5, 6], the output should be [5, 3, 1]."
   ]
  },
  {
   "cell_type": "code",
   "execution_count": 164,
   "id": "3f6d519a-a358-44f6-8290-0c7e3c4118cc",
   "metadata": {},
   "outputs": [
    {
     "name": "stdin",
     "output_type": "stream",
     "text": [
      "Enter a list of numbers separated by spaces:  2 4 12 34 12 34 65 34\n"
     ]
    },
    {
     "name": "stdout",
     "output_type": "stream",
     "text": [
      "Your list is:  [2.0, 4.0, 12.0, 34.0, 12.0, 34.0, 65.0, 34.0]\n"
     ]
    },
    {
     "name": "stdin",
     "output_type": "stream",
     "text": [
      "Enter n elemnts to skip from list 3\n"
     ]
    },
    {
     "name": "stdout",
     "output_type": "stream",
     "text": [
      "Your new reverse look like  [34.0, 12.0]\n"
     ]
    }
   ],
   "source": [
    "def rev(lst,n):        \n",
    "    return lst[-n::-n]\n",
    "\n",
    "def main():\n",
    "    input_number = input(\"Enter a list of numbers separated by spaces: \")\n",
    "    lst = [float(num) for num in input_number.split()]\n",
    "    print(\"Your list is: \", lst)\n",
    "    search = int(input(\"Enter n elemnts to skip from list\"))\n",
    "    \n",
    "    result = rev(lst,search)\n",
    "    print(\"Your new reverse look like \", result)\n",
    "\n",
    "if __name__ == \"__main__\":\n",
    "    main()"
   ]
  },
  {
   "cell_type": "markdown",
   "id": "2cbe996e-640a-46f8-9b20-c07d94b25f6f",
   "metadata": {},
   "source": [
    "# 4.3 Exercise on Nested List:"
   ]
  },
  {
   "cell_type": "markdown",
   "id": "0f6bdd4f-5a89-4ebb-ae57-7f420e4f4c75",
   "metadata": {},
   "source": [
    "1. Flatten a Nested List:\n",
    "Write a Python function that takes a nested list and flattens it into a single list, where all the elements\n",
    "are in a single dimension.\n",
    "• Requirements:\n",
    "– Define a function flatten(lst) that takes a nested list lst and returns a flattened version\n",
    "of the list.\n",
    "– Example: For the input [[1, 2], [3, 4], [5]], the output should be [1, 2, 3, 4, 5]."
   ]
  },
  {
   "cell_type": "code",
   "execution_count": 168,
   "id": "7c39a082-de77-4239-a791-f450ef0737e1",
   "metadata": {},
   "outputs": [
    {
     "name": "stdin",
     "output_type": "stream",
     "text": [
      "Enter a nested list (e.g., [[1, 2], [3, 4], [5]]):  [[4,3,2],[2,4],1,3,[9,8]]\n"
     ]
    },
    {
     "name": "stdout",
     "output_type": "stream",
     "text": [
      "Flattened List: [4, 3, 2, 2, 4, 1, 3, 9, 8]\n"
     ]
    }
   ],
   "source": [
    "def flatten(lst):\n",
    "    flattened_list = []\n",
    "    for item in lst:\n",
    "        if isinstance(item, list):  # If the item is a list, recurse into it\n",
    "            flattened_list.extend(flatten(item))\n",
    "        else:\n",
    "            flattened_list.append(item)  # If the item is not a list, add it to the flattened list\n",
    "    return flattened_list\n",
    "\n",
    "\n",
    "def main():\n",
    "    # Input: the user is prompted to enter a nested list\n",
    "    user_input = input(\"Enter a nested list (e.g., [[1, 2], [3, 4], [5]]): \")\n",
    "    \n",
    "    # Convert the string input to an actual list\n",
    "    try:\n",
    "        nested_list = eval(user_input)\n",
    "        if not isinstance(nested_list, list):\n",
    "            print(\"Please enter a valid nested list.\")\n",
    "            return\n",
    "        flattened = flatten(nested_list)\n",
    "        print(\"Flattened List:\", flattened)\n",
    "    except Exception as e:\n",
    "        print(f\"Error: {e}. Please ensure the input is a valid nested list.\")\n",
    "\n",
    "\n",
    "if __name__ == \"__main__\":\n",
    "    main()\n"
   ]
  },
  {
   "cell_type": "markdown",
   "id": "7fc55af6-0c10-4d1f-9806-0cfc4749cf32",
   "metadata": {},
   "source": [
    "Accessing Nested List Elements:\n",
    "Write a Python function that extracts a specific element from a nested list given its indices.\n",
    "• Requirements:\n",
    "– Define a function access nested element(lst, indices) that takes a nested list lst and\n",
    "a list of indices indices, and returns the element at that position.\n",
    "– Example: For the input lst = [[1, 2, 3], [4, 5, 6], [7, 8, 9]] with indices = [1,\n",
    "2], the output should be 6."
   ]
  },
  {
   "cell_type": "code",
   "execution_count": 182,
   "id": "dc260038-7ce2-441d-8d7a-aa38eeb1f447",
   "metadata": {},
   "outputs": [
    {
     "name": "stdin",
     "output_type": "stream",
     "text": [
      "Enter a nested list (e.g., [[1, 2], [3, 4], [5]]):  [[1,2,3],[4,5],[6,7,8,9]]\n",
      "Enter indices value like [1,2]:  [2,3]\n"
     ]
    },
    {
     "name": "stdout",
     "output_type": "stream",
     "text": [
      "You elements for index [2, 3] is 9\n"
     ]
    }
   ],
   "source": [
    "def access_nested_element(lst,indices):\n",
    "    element = lst\n",
    "    for index in indices:\n",
    "        element = element[index]\n",
    "    return element\n",
    "\n",
    "def main():\n",
    "    # Input: the user is prompted to enter a nested list\n",
    "    user_input = input(\"Enter a nested list (e.g., [[1, 2], [3, 4], [5]]): \")\n",
    "\n",
    "    # Convert the user input (string) into an actual list\n",
    "    try:\n",
    "        nested_list = eval(user_input)\n",
    "        if not isinstance(nested_list, list):\n",
    "            print(\"The input is not a valid list!\")\n",
    "            return\n",
    "    except Exception as e:\n",
    "        print(f\"Error: {e}. Please ensure the input is a valid nested list.\")\n",
    "        return\n",
    "\n",
    "    index_input = input(\"Enter indices value like [1,2]: \")\n",
    "\n",
    "    # Convert the indices input into a list\n",
    "    try:\n",
    "        indices = eval(index_input)\n",
    "        if not isinstance(indices, list):\n",
    "            print(\"The indices must be provided as a list!\")\n",
    "            return\n",
    "    except Exception as e:\n",
    "        print(f\"Error: {e}. Please ensure the indices are in list format.\")\n",
    "        return\n",
    "    result = access_nested_element(nested_list,indices)\n",
    "    print(f\"You elements for index {indices} is {result}\")\n",
    "\n",
    "if __name__ == \"__main__\":\n",
    "    main()\n",
    "    "
   ]
  },
  {
   "cell_type": "markdown",
   "id": "1e1f5613-7260-4a68-bf49-7cbfff117a91",
   "metadata": {},
   "source": [
    "Sum of All Elements in a Nested List:\n",
    "Write a Python function that calculates the sum of all the numbers in a nested list (regardless of depth).\n",
    "• Requirements:\n",
    "– Define a function sum nested(lst) that takes a nested list lst and returns the sum of all\n",
    "the elements.\n",
    "– Example: For the input [[1, 2], [3, [4, 5]], 6], the output should be 21."
   ]
  },
  {
   "cell_type": "code",
   "execution_count": 192,
   "id": "c4bcbabf-b174-415a-aab8-c7e06fcca4ec",
   "metadata": {},
   "outputs": [
    {
     "name": "stdin",
     "output_type": "stream",
     "text": [
      "Enter a nested list (e.g., [[1, 2], [3, 4], [5]]):  [[1,2,3],[4,5],[6,7,8,9]]\n"
     ]
    },
    {
     "name": "stdout",
     "output_type": "stream",
     "text": [
      "You sum of element is 45\n"
     ]
    }
   ],
   "source": [
    "def sum_nested(lst):\n",
    "    totalsum = 0\n",
    "    for elements in lst:\n",
    "        if isinstance(elements,list):\n",
    "            totalsum += sum_nested(elements)\n",
    "        else:\n",
    "            totalsum += elements\n",
    "    return totalsum\n",
    "\n",
    "def main():\n",
    "    # Input: the user is prompted to enter a nested list\n",
    "    user_input = input(\"Enter a nested list (e.g., [[1, 2], [3, 4], [5]]): \")\n",
    "\n",
    "    # Convert the user input (string) into an actual list\n",
    "    try:\n",
    "        nested_list = eval(user_input)\n",
    "        if not isinstance(nested_list, list):\n",
    "            print(\"The input is not a valid list!\")\n",
    "            return\n",
    "    except Exception as e:\n",
    "        print(f\"Error: {e}. Please ensure the input is a valid nested list.\")\n",
    "        return\n",
    "\n",
    "    \n",
    "    result = sum_nested(nested_list)\n",
    "    print(f\"You sum of element is {result}\")\n",
    "\n",
    "if __name__ == \"__main__\":\n",
    "    main()\n",
    "    "
   ]
  },
  {
   "cell_type": "markdown",
   "id": "619dc5f8-6446-4857-92e2-76f5d12f61b1",
   "metadata": {},
   "source": [
    "4. Remove Specific Element from a Nested List:\n",
    "Write a Python function that removes all occurrences of a specific element from a nested list.\n",
    "• Requirements:\n",
    "– Define a function remove element(lst, elem) that removes elem from lst and returns the\n",
    "modified list.\n",
    "– Example: For the input lst = [[1, 2], [3, 2], [4, 5]] and elem = 2, the output should\n",
    "be [[1], [3], [4, 5]]."
   ]
  },
  {
   "cell_type": "code",
   "execution_count": 208,
   "id": "c054cef3-4261-4ba2-9e54-0fe7eb3684f2",
   "metadata": {},
   "outputs": [
    {
     "name": "stdin",
     "output_type": "stream",
     "text": [
      "Enter a nested list (e.g., [[1, 2], [3, 4], [5]]):  [[1,2,3],[4,5],[6,7,2]]\n",
      "Enter the element you want to remove:  2\n"
     ]
    },
    {
     "name": "stdout",
     "output_type": "stream",
     "text": [
      "The list after removing the element 2 is: [[1, 3], [4, 5], [6, 7]]\n"
     ]
    }
   ],
   "source": [
    "def remove_element(lst, elem):\n",
    "    # Initialize a new list to store the result\n",
    "    new_lst = []\n",
    "    \n",
    "    for item in lst:\n",
    "        if isinstance(item, list):  # If the item is a list, recurse\n",
    "            new_lst.append(remove_element(item, elem))  # Recurse on the nested list\n",
    "        elif item != elem:  # If the item is not the element we want to remove, add it to new_lst\n",
    "            new_lst.append(item)\n",
    "    \n",
    "    return new_lst\n",
    "\n",
    "def main():\n",
    "    # Input: the user is prompted to enter a nested list\n",
    "    user_input = input(\"Enter a nested list (e.g., [[1, 2], [3, 4], [5]]): \")\n",
    "    element = int(input(\"Enter the element you want to remove: \"))\n",
    "    \n",
    "    # Convert the user input (string) into an actual list\n",
    "    try:\n",
    "        nested_list = eval(user_input)\n",
    "        if not isinstance(nested_list, list):\n",
    "            print(\"The input is not a valid list!\")\n",
    "            return\n",
    "    except Exception as e:\n",
    "        print(f\"Error: {e}. Please ensure the input is a valid nested list.\")\n",
    "        return\n",
    "    \n",
    "    # Remove the element\n",
    "    result = remove_element(nested_list, element)\n",
    "    \n",
    "    print(f\"The list after removing the element {element} is: {result}\")\n",
    "\n",
    "if __name__ == \"__main__\":\n",
    "    main()\n"
   ]
  },
  {
   "cell_type": "markdown",
   "id": "5c4a0d9e-e317-4616-a19d-822eaf4af0e6",
   "metadata": {},
   "source": [
    "Find the Maximum Element in a Nested List:\n",
    "Write a Python function that finds the maximum element in a nested list (regardless of depth).\n",
    "• Requirements:\n",
    "– Define a function find max(lst) that takes a nested list lst and returns the maximum\n",
    "element.\n",
    "– Example: For the input [[1, 2], [3, [4, 5]], 6], the output should be 6."
   ]
  },
  {
   "cell_type": "code",
   "execution_count": 221,
   "id": "abbd2400-c0bd-4f61-bc8d-4ebbca608860",
   "metadata": {},
   "outputs": [
    {
     "name": "stdin",
     "output_type": "stream",
     "text": [
      "Enter a nested list (e.g., [[1, 2], [3, 4], [5]]):  [[42,32],[11,65]]\n"
     ]
    },
    {
     "name": "stdout",
     "output_type": "stream",
     "text": [
      "The maximum element in list is:  65\n"
     ]
    }
   ],
   "source": [
    "def find_max(lst):\n",
    "    max_value=0\n",
    "    for elem in lst:\n",
    "        if isinstance(elem,list):\n",
    "            max_value = max(max_value,find_max(elem))\n",
    "        else:\n",
    "            max_value = max(max_value,elem)\n",
    "      \n",
    "    \n",
    "    return max_value\n",
    "\n",
    "def main():\n",
    "    # Input: the user is prompted to enter a nested list\n",
    "    user_input = input(\"Enter a nested list (e.g., [[1, 2], [3, 4], [5]]): \")\n",
    "    \n",
    "    \n",
    "    # Convert the user input (string) into an actual list\n",
    "    try:\n",
    "        nested_list = eval(user_input)\n",
    "        if not isinstance(nested_list, list):\n",
    "            print(\"The input is not a valid list!\")\n",
    "            return\n",
    "    except Exception as e:\n",
    "        print(f\"Error: {e}. Please ensure the input is a valid nested list.\")\n",
    "        return\n",
    "    \n",
    "    # Remove the element\n",
    "    result = find_max(nested_list)\n",
    "    \n",
    "    print(f\"The maximum element in list is:  {result}\")\n",
    "\n",
    "if __name__ == \"__main__\":\n",
    "    main()\n"
   ]
  },
  {
   "cell_type": "markdown",
   "id": "78f13091-0d99-47d4-9c0e-6b15cd46af6b",
   "metadata": {},
   "source": [
    "6. Count Occurrences of an Element in a Nested List:\n",
    "Write a Python function that counts how many times a specific element appears in a nested list.\n",
    "• Requirements:\n",
    "– Define a function count occurrences(lst, elem) that counts the occurrences of elem in\n",
    "the nested list lst.\n",
    "– Example: For the input lst = [[1, 2], [2, 3], [2, 4]] and elem = 2, the output should\n",
    "be 3."
   ]
  },
  {
   "cell_type": "code",
   "execution_count": 229,
   "id": "86632dce-cf28-4d5c-988a-92f17076927c",
   "metadata": {},
   "outputs": [
    {
     "name": "stdin",
     "output_type": "stream",
     "text": [
      "Enter a nested list (e.g., [[1, 2], [3, 4], [5]]):  [[1,2,1,3],[3,1,4,1,5]]\n",
      "Enter the element you want to count:  1\n"
     ]
    },
    {
     "name": "stdout",
     "output_type": "stream",
     "text": [
      "The count of element 1 is: 4\n"
     ]
    }
   ],
   "source": [
    "def count_occurrences(lst, elem):\n",
    "    count = 0\n",
    "    \n",
    "    for item in lst:\n",
    "        if isinstance(item, list):  # If the item is a list, recurse\n",
    "            count+=count_occurrences(item, elem)\n",
    "        else:\n",
    "            if item == elem:\n",
    "                count +=1\n",
    "        \n",
    "    \n",
    "    return count\n",
    "\n",
    "def main():\n",
    "    # Input: the user is prompted to enter a nested list\n",
    "    user_input = input(\"Enter a nested list (e.g., [[1, 2], [3, 4], [5]]): \")\n",
    "    element = int(input(\"Enter the element you want to count: \"))\n",
    "    \n",
    "    # Convert the user input (string) into an actual list\n",
    "    try:\n",
    "        nested_list = eval(user_input)\n",
    "        if not isinstance(nested_list, list):\n",
    "            print(\"The input is not a valid list!\")\n",
    "            return\n",
    "    except Exception as e:\n",
    "        print(f\"Error: {e}. Please ensure the input is a valid nested list.\")\n",
    "        return\n",
    "    \n",
    "    # Remove the element\n",
    "    result = count_occurrences(nested_list, element)\n",
    "    \n",
    "    print(f\"The count of element {element} is: {result}\")\n",
    "\n",
    "if __name__ == \"__main__\":\n",
    "    main()\n"
   ]
  },
  {
   "cell_type": "markdown",
   "id": "e99a49fe-4139-4979-8ca1-df7f2dab5793",
   "metadata": {},
   "source": [
    "7. Flatten a List of Lists of Lists:\n",
    "Write a Python function that flattens a list of lists of lists into a single list, regardless of the depth.\n",
    "• Requirements:\n",
    "– Define a function deep flatten(lst) that takes a deeply nested list lst and returns a single\n",
    "flattened list.\n",
    "– Example: For the input [[[1, 2], [3, 4]], [[5, 6], [7, 8]]], the output should be\n",
    "[1, 2, 3, 4, 5, 6, 7, 8].\n"
   ]
  },
  {
   "cell_type": "code",
   "execution_count": 233,
   "id": "4ee89812-f214-4608-8a36-cecabcc31632",
   "metadata": {},
   "outputs": [
    {
     "name": "stdin",
     "output_type": "stream",
     "text": [
      "Enter a nested list (e.g., [[1, 2], [3, 4], [5]]):  [[[1,2],[3,4]],[[5,6],[6,7]]]\n"
     ]
    },
    {
     "name": "stdout",
     "output_type": "stream",
     "text": [
      "Flattened List: [1, 2, 3, 4, 5, 6, 6, 7]\n"
     ]
    }
   ],
   "source": [
    "def flatten(lst):\n",
    "    flattened_list = []\n",
    "    for item in lst:\n",
    "        if isinstance(item, list):  # If the item is a list, recurse into it\n",
    "            flattened_list.extend(flatten(item))\n",
    "        else:\n",
    "            flattened_list.append(item)  # If the item is not a list, add it to the flattened list\n",
    "    return flattened_list\n",
    "\n",
    "\n",
    "def main():\n",
    "    # Input: the user is prompted to enter a nested list\n",
    "    user_input = input(\"Enter a nested list (e.g., [[1, 2], [3, 4], [5]]): \")\n",
    "    \n",
    "    # Convert the string input to an actual list\n",
    "    try:\n",
    "        nested_list = eval(user_input)\n",
    "        if not isinstance(nested_list, list):\n",
    "            print(\"Please enter a valid nested list.\")\n",
    "            return\n",
    "        flattened = flatten(nested_list)\n",
    "        print(\"Flattened List:\", flattened)\n",
    "    except Exception as e:\n",
    "        print(f\"Error: {e}. Please ensure the input is a valid nested list.\")\n",
    "\n",
    "\n",
    "if __name__ == \"__main__\":\n",
    "    main()\n"
   ]
  },
  {
   "cell_type": "markdown",
   "id": "5ea26d76-dde1-4135-8549-ac29655d108a",
   "metadata": {},
   "source": [
    "8. Nested List Average:\n",
    "Write a Python function that calculates the average of all elements in a nested list.\n",
    "• Requirements:\n",
    "– Define a function average nested(lst) that takes a nested list lst and returns the average\n",
    "of all the elements.\n",
    "– Example: For the input [[1, 2], [3, 4], [5, 6]], the output should be 3.5."
   ]
  },
  {
   "cell_type": "code",
   "execution_count": 245,
   "id": "f0b494c4-50cf-465b-8b4e-0e082e6c3939",
   "metadata": {},
   "outputs": [
    {
     "name": "stdin",
     "output_type": "stream",
     "text": [
      "Enter a nested list (e.g., [[1, 2], [3, 4], [5]]):  [[1,2],[3,4],[5,6]]\n"
     ]
    },
    {
     "name": "stdout",
     "output_type": "stream",
     "text": [
      "The average value pf this list is:  3.5\n"
     ]
    }
   ],
   "source": [
    "def flatten(lst):\n",
    "    flattened_list = []\n",
    "    for item in lst:\n",
    "        if isinstance(item, list):  # If the item is a list, recurse into it\n",
    "            flattened_list.extend(flatten(item))\n",
    "        else:\n",
    "            flattened_list.append(item)  # If the item is not a list, add it to the flattened list\n",
    "    return flattened_list\n",
    "\n",
    "def average_nested(lst):\n",
    "    flattened_list = flatten(lst)\n",
    "    if len(flattened_list) ==0:\n",
    "        return 0\n",
    "    total_sum = sum(flattened_list)\n",
    "    total_length = len(flattened_list)    \n",
    "    \n",
    "    return total_sum/total_length\n",
    "\n",
    "def main():\n",
    "    # Input: the user is prompted to enter a nested list\n",
    "    user_input = input(\"Enter a nested list (e.g., [[1, 2], [3, 4], [5]]): \")\n",
    "    \n",
    "    \n",
    "    # Convert the user input (string) into an actual list\n",
    "    try:\n",
    "        nested_list = eval(user_input)\n",
    "        if not isinstance(nested_list, list):\n",
    "            print(\"The input is not a valid list!\")\n",
    "            return\n",
    "    except Exception as e:\n",
    "        print(f\"Error: {e}. Please ensure the input is a valid nested list.\")\n",
    "        return\n",
    "    \n",
    "    # Remove the element\n",
    "    result = average_nested(nested_list)\n",
    "    \n",
    "    print(f\"The average value pf this list is:  {result}\")\n",
    "\n",
    "if __name__ == \"__main__\":\n",
    "    main()\n"
   ]
  },
  {
   "cell_type": "markdown",
   "id": "a5404da5-1d0f-47d4-8f66-ab8a6f943fb8",
   "metadata": {},
   "source": [
    "# 10 To - Do - NumPy\n"
   ]
  },
  {
   "cell_type": "markdown",
   "id": "0e12dcc0-5c9e-477f-83eb-c846dd16d5b7",
   "metadata": {},
   "source": [
    "10.1 Basic Vector and Matrix Operation with Numpy.\n",
    "Problem - 1: Array Creation:\n",
    "Complete the following Tasks:\n",
    "1. Initialize an empty array with size 2X2.\n",
    "2. Initialize an all one array with size 4X2.\n",
    "3. Return a new array of given shape and type, filled with fill value.{Hint: np.full}\n",
    "4. Return a new array of zeros with same shape and type as a given array.{Hint: np.zeros like}\n",
    "5. Return a new array of ones with same shape and type as a given array.{Hint: np.ones like}\n",
    "6. For an existing list new_list = [1,2,3,4] convert to an numpy array.{Hint: np.array()}"
   ]
  },
  {
   "cell_type": "code",
   "execution_count": 264,
   "id": "20157d0f-f3fc-46f1-ad0b-2276e8d42e95",
   "metadata": {},
   "outputs": [
    {
     "data": {
      "text/plain": [
       "array([[0., 0.],\n",
       "       [0., 0.]])"
      ]
     },
     "execution_count": 264,
     "metadata": {},
     "output_type": "execute_result"
    }
   ],
   "source": [
    "array = np.empty((2,2)) #np.zeros((2,2))\n",
    "array"
   ]
  },
  {
   "cell_type": "code",
   "execution_count": 268,
   "id": "ea6479cd-ed63-4a55-961f-d9c28b6153f5",
   "metadata": {},
   "outputs": [
    {
     "data": {
      "text/plain": [
       "array([[1., 1., 1., 1.],\n",
       "       [1., 1., 1., 1.],\n",
       "       [1., 1., 1., 1.],\n",
       "       [1., 1., 1., 1.]])"
      ]
     },
     "execution_count": 268,
     "metadata": {},
     "output_type": "execute_result"
    }
   ],
   "source": [
    "array = np.ones((4,4))\n",
    "array"
   ]
  },
  {
   "cell_type": "code",
   "execution_count": 270,
   "id": "b8027a44-c6bb-419e-86a2-9353a557d8ad",
   "metadata": {},
   "outputs": [
    {
     "data": {
      "text/plain": [
       "array([[4, 4],\n",
       "       [4, 4]])"
      ]
     },
     "execution_count": 270,
     "metadata": {},
     "output_type": "execute_result"
    }
   ],
   "source": [
    "fill_array = np.full((2,2),4)\n",
    "fill_array"
   ]
  },
  {
   "cell_type": "code",
   "execution_count": 282,
   "id": "d5e16265-5e72-4398-8d8b-6ef47dc75f1e",
   "metadata": {},
   "outputs": [
    {
     "name": "stdout",
     "output_type": "stream",
     "text": [
      "[[1 2]\n",
      " [3 4]]\n",
      "[[0 0]\n",
      " [0 0]]\n"
     ]
    }
   ],
   "source": [
    "given_array = np.array([[1,2],[3,4]])\n",
    "print(given_array)\n",
    "\n",
    "array2 = np.zeros_like(given_array)\n",
    "print(array2)"
   ]
  },
  {
   "cell_type": "code",
   "execution_count": 284,
   "id": "7f832b5e-1126-4db7-a84a-628d4d1cc021",
   "metadata": {},
   "outputs": [
    {
     "name": "stdout",
     "output_type": "stream",
     "text": [
      "[[1 1]\n",
      " [1 1]]\n"
     ]
    }
   ],
   "source": [
    "array2 = np.ones_like(given_array)\n",
    "print(array2)"
   ]
  },
  {
   "cell_type": "code",
   "execution_count": 286,
   "id": "0d83a752-19cd-4917-a436-f5de06458c3f",
   "metadata": {},
   "outputs": [
    {
     "name": "stdout",
     "output_type": "stream",
     "text": [
      "[1 2 3 4]\n"
     ]
    }
   ],
   "source": [
    "new_list = [1, 2, 3, 4]\n",
    "numpy_array = np.array(new_list)\n",
    "print(numpy_array)"
   ]
  },
  {
   "cell_type": "markdown",
   "id": "a6e96d62-467e-4c27-94c6-0d976d372182",
   "metadata": {},
   "source": [
    "Problem - 2: Array Manipulation: Numerical Ranges and Array indexing:\n",
    "Complete the following tasks:\n",
    "1. Create an array with values ranging from 10 to 49. {Hint:np.arrange()}.\n",
    "2. Create a 3X3 matrix with values ranging from 0 to 8.\n",
    "{Hint:look for np.reshape()}\n",
    "3. Create a 3X3 identity matrix.{Hint:np.eye()}\n",
    "4. Create a random array of size 30 and find the mean of the array.\n",
    "{Hint:check for np.random.random() and array.mean() function}\n",
    "5. Create a 10X10 array with random values and find the minimum and maximum values.\n",
    "6. Create a zero array of size 10 and replace 5th element with 1.\n",
    "7. Reverse an array arr = [1,2,0,0,4,0].\n",
    "8. Create a 2d array with 1 on border and 0 inside.\n",
    "9. Create a 8X8 matrix and fill it with a checkerboard pattern."
   ]
  },
  {
   "cell_type": "code",
   "execution_count": 304,
   "id": "f0686f3a-168a-4bb3-bb62-1ff96c328b1f",
   "metadata": {},
   "outputs": [
    {
     "data": {
      "text/plain": [
       "array([10, 11, 12, 13, 14, 15, 16, 17, 18, 19, 20, 21, 22, 23, 24, 25, 26,\n",
       "       27, 28, 29, 30, 31, 32, 33, 34, 35, 36, 37, 38, 39, 40, 41, 42, 43,\n",
       "       44, 45, 46, 47, 48, 49])"
      ]
     },
     "execution_count": 304,
     "metadata": {},
     "output_type": "execute_result"
    }
   ],
   "source": [
    "array = np.arange(10,50)\n",
    "array"
   ]
  },
  {
   "cell_type": "code",
   "execution_count": 310,
   "id": "5c2f7301-b095-4ac4-a63c-fa2bd995cd9b",
   "metadata": {},
   "outputs": [
    {
     "data": {
      "text/plain": [
       "array([[0, 1, 2],\n",
       "       [3, 4, 5],\n",
       "       [6, 7, 8]])"
      ]
     },
     "execution_count": 310,
     "metadata": {},
     "output_type": "execute_result"
    }
   ],
   "source": [
    "array = np.arange(0,9)\n",
    "matrix = array.reshape(3,3)\n",
    "matrix"
   ]
  },
  {
   "cell_type": "code",
   "execution_count": 312,
   "id": "d48977af-2163-4512-9e41-bb6eecd1dec9",
   "metadata": {},
   "outputs": [
    {
     "name": "stdout",
     "output_type": "stream",
     "text": [
      "[[1. 0. 0.]\n",
      " [0. 1. 0.]\n",
      " [0. 0. 1.]]\n"
     ]
    }
   ],
   "source": [
    "identity_matrix = np.eye(3,3)\n",
    "print(identity_matrix)"
   ]
  },
  {
   "cell_type": "code",
   "execution_count": 314,
   "id": "b2ab9ae7-69b5-4c10-b846-1658fb66c8b9",
   "metadata": {},
   "outputs": [
    {
     "name": "stdout",
     "output_type": "stream",
     "text": [
      "[0.66761262 0.37385079 0.38666954 0.38929003 0.16583355 0.42829103\n",
      " 0.44090224 0.37982568 0.93207713 0.26410234 0.16622803 0.67460888\n",
      " 0.96693786 0.49463007 0.85125074 0.30581798 0.53140734 0.57855525\n",
      " 0.40033011 0.37905086 0.71185479 0.09466444 0.37048008 0.26275011\n",
      " 0.76460476 0.85785318 0.93687064 0.28005848 0.66472852 0.66449426]\n",
      "0.5128543768859489\n"
     ]
    }
   ],
   "source": [
    "array = np.random.random(30)\n",
    "print(array)\n",
    "mean = array.mean()\n",
    "print(mean)"
   ]
  },
  {
   "cell_type": "code",
   "execution_count": 320,
   "id": "891ef645-59ff-44e4-a148-2fccf06c039b",
   "metadata": {},
   "outputs": [
    {
     "name": "stdout",
     "output_type": "stream",
     "text": [
      "0.011260584357945747\n",
      "0.9688595865316599\n"
     ]
    }
   ],
   "source": [
    "array = np.random.random((10,10))\n",
    "min_value = array.min()\n",
    "print(min_value)\n",
    "max_value = array.max()\n",
    "print(max_value)"
   ]
  },
  {
   "cell_type": "code",
   "execution_count": 324,
   "id": "11862ef6-042e-4d9d-80ad-6b1b875ac7e5",
   "metadata": {},
   "outputs": [
    {
     "data": {
      "text/plain": [
       "array([0., 0., 0., 0., 1., 0., 0., 0., 0., 0.])"
      ]
     },
     "execution_count": 324,
     "metadata": {},
     "output_type": "execute_result"
    }
   ],
   "source": [
    "array= np.zeros(10)\n",
    "array[4] =1\n",
    "array"
   ]
  },
  {
   "cell_type": "code",
   "execution_count": 336,
   "id": "422baf6c-dcdb-4317-9dff-bc480e5c94a5",
   "metadata": {},
   "outputs": [
    {
     "data": {
      "text/plain": [
       "[0, 4, 0, 0, 2, 1]"
      ]
     },
     "execution_count": 336,
     "metadata": {},
     "output_type": "execute_result"
    }
   ],
   "source": [
    "arr = [1,2,0,0,4,0]\n",
    "rev_arr = arr[::-1] #arr.reverse()\n",
    "rev_arr\n"
   ]
  },
  {
   "cell_type": "code",
   "execution_count": 346,
   "id": "e3d2232a-5969-4cc1-bfac-91ed9cbf5196",
   "metadata": {},
   "outputs": [
    {
     "name": "stdin",
     "output_type": "stream",
     "text": [
      "Enter size of 2d array you want 5\n"
     ]
    },
    {
     "name": "stdout",
     "output_type": "stream",
     "text": [
      "[[1 1 1 1 1]\n",
      " [1 0 0 0 1]\n",
      " [1 0 0 0 1]\n",
      " [1 0 0 0 1]\n",
      " [1 1 1 1 1]]\n"
     ]
    }
   ],
   "source": [
    "size = int(input(\"Enter size of 2d array you want\"))\n",
    "\n",
    "arr = np.ones((size,size),dtype=int)\n",
    "\n",
    "arr[1:-1,1:-1] = 0\n",
    "\n",
    "print(arr)\n",
    "    "
   ]
  },
  {
   "cell_type": "code",
   "execution_count": 370,
   "id": "4d59bddd-e52b-49ae-b8fe-4f869f122561",
   "metadata": {},
   "outputs": [
    {
     "name": "stdout",
     "output_type": "stream",
     "text": [
      "[[1 0 1 0 1 0 1 0]\n",
      " [0 1 0 1 0 1 0 1]\n",
      " [1 0 1 0 1 0 1 0]\n",
      " [0 1 0 1 0 1 0 1]\n",
      " [1 0 1 0 1 0 1 0]\n",
      " [0 1 0 1 0 1 0 1]\n",
      " [1 0 1 0 1 0 1 0]\n",
      " [0 1 0 1 0 1 0 1]]\n"
     ]
    }
   ],
   "source": [
    "size = 8\n",
    "\n",
    "arr = np.ones((size,size),dtype=int)\n",
    "\n",
    "arr[1::2,::2] = 0\n",
    "arr[::2,1::2] = 0\n",
    "\n",
    "print(arr)"
   ]
  },
  {
   "cell_type": "markdown",
   "id": "e0587eea-dc38-4857-b065-b201ba72b0a0",
   "metadata": {},
   "source": [
    "Problem - 3: Array Operations:\n",
    "For the following arrays:\n",
    "x = np.array([[1,2],[3,5]]) and y = np.array([[5,6],[7,8]]);\n",
    "v = np.array([9,10]) and w = np.array([11,12]);\n",
    "Complete all the task using numpy:\n",
    "1. Add the two array.\n",
    "2. Subtract the two array.\n",
    "3. Multiply the array with any integers of your choice.\n",
    "4. Find the square of each element of the array.\n",
    "5. Find the dot product between: v(and)w ; x(and)v ; x(and)y.\n",
    "6. Concatenate x(and)y along row and Concatenate v(and)w along column.\n",
    "{Hint:try np.concatenate() or np.vstack() functions.\n",
    "7. Concatenate x(and)v; if you get an error, observe and explain why did you get the error?"
   ]
  },
  {
   "cell_type": "code",
   "execution_count": 374,
   "id": "e5151b9f-cfc4-46b0-94a1-197bdc527640",
   "metadata": {},
   "outputs": [],
   "source": [
    "x = np.array([[1,2],[3,5]]) \n",
    "y = np.array([[5,6],[7,8]])\n",
    "v = np.array([9,10]) \n",
    "w = np.array([11,12])"
   ]
  },
  {
   "cell_type": "code",
   "execution_count": 380,
   "id": "e993942c-bdea-447d-8194-8c836d75069b",
   "metadata": {},
   "outputs": [
    {
     "name": "stdout",
     "output_type": "stream",
     "text": [
      "Z:  [[ 6  8]\n",
      " [10 13]]\n",
      "U:  [20 22]\n"
     ]
    }
   ],
   "source": [
    "z = x+y\n",
    "u = v+w\n",
    "print(\"Z: \",z)\n",
    "print(\"U: \",u)"
   ]
  },
  {
   "cell_type": "code",
   "execution_count": 382,
   "id": "9e88fe16-215f-4a00-bcae-eeb05ce43e3b",
   "metadata": {},
   "outputs": [
    {
     "name": "stdout",
     "output_type": "stream",
     "text": [
      "Z:  [[-4 -4]\n",
      " [-4 -3]]\n",
      "U:  [-2 -2]\n"
     ]
    }
   ],
   "source": [
    "z = x-y\n",
    "u = v-w\n",
    "print(\"Z: \",z)\n",
    "print(\"U: \",u)"
   ]
  },
  {
   "cell_type": "code",
   "execution_count": 384,
   "id": "e14769d8-bd41-40a6-9d73-b9d81968303b",
   "metadata": {},
   "outputs": [
    {
     "name": "stdout",
     "output_type": "stream",
     "text": [
      "Z:  [[ 4  8]\n",
      " [12 20]]\n",
      "U:  [45 50]\n",
      "A:  [[35 42]\n",
      " [49 56]]\n",
      "B:  [33 36]\n"
     ]
    }
   ],
   "source": [
    "z = x *4\n",
    "u = v*5\n",
    "a = y*7\n",
    "b = w*3\n",
    "print(\"Z: \",z)\n",
    "print(\"U: \",u)\n",
    "print(\"A: \",a)\n",
    "print(\"B: \",b)"
   ]
  },
  {
   "cell_type": "code",
   "execution_count": 388,
   "id": "e2d9d806-a8c0-4af6-9d6c-d24d69a84bfd",
   "metadata": {},
   "outputs": [
    {
     "name": "stdout",
     "output_type": "stream",
     "text": [
      "Z:  [[ 1  4]\n",
      " [ 9 25]]\n",
      "U:  [ 81 100]\n",
      "A:  [[25 36]\n",
      " [49 64]]\n",
      "B:  [121 144]\n"
     ]
    }
   ],
   "source": [
    "z = np.square(x)\n",
    "u = np.square(v)\n",
    "a = np.square(y)\n",
    "b = np.square(w)\n",
    "print(\"Z: \",z)\n",
    "print(\"U: \",u)\n",
    "print(\"A: \",a)\n",
    "print(\"B: \",b)"
   ]
  },
  {
   "cell_type": "code",
   "execution_count": 390,
   "id": "604f317a-ee4e-4e63-89af-3a1312062055",
   "metadata": {},
   "outputs": [
    {
     "name": "stdout",
     "output_type": "stream",
     "text": [
      "Z:  [[19 22]\n",
      " [50 58]]\n",
      "U:  219\n",
      "A:  [29 77]\n"
     ]
    }
   ],
   "source": [
    "z = np.dot(x,y)\n",
    "u = np.dot(v,w)\n",
    "a = np.dot(x,v)\n",
    "\n",
    "print(\"Z: \",z)\n",
    "print(\"U: \",u)\n",
    "print(\"A: \",a)\n"
   ]
  },
  {
   "cell_type": "code",
   "execution_count": 404,
   "id": "a17fdee6-6fb5-4114-bafd-babdab78bd15",
   "metadata": {},
   "outputs": [
    {
     "name": "stdout",
     "output_type": "stream",
     "text": [
      "Z:  [[1 2 5 6]\n",
      " [3 5 7 8]]\n",
      "U:  [[ 9 11]\n",
      " [10 12]]\n"
     ]
    }
   ],
   "source": [
    "z = np.concatenate((x,y),axis=1)\n",
    "u = np.stack((v,w),axis=1)\n",
    "\n",
    "\n",
    "print(\"Z: \",z)\n",
    "print(\"U: \",u)\n"
   ]
  },
  {
   "cell_type": "code",
   "execution_count": 410,
   "id": "8ffacc12-b789-4ad8-be49-249347bad7c5",
   "metadata": {
    "scrolled": true
   },
   "outputs": [
    {
     "ename": "ValueError",
     "evalue": "all the input arrays must have same number of dimensions, but the array at index 0 has 2 dimension(s) and the array at index 1 has 1 dimension(s)",
     "output_type": "error",
     "traceback": [
      "\u001b[1;31m---------------------------------------------------------------------------\u001b[0m",
      "\u001b[1;31mValueError\u001b[0m                                Traceback (most recent call last)",
      "Cell \u001b[1;32mIn[410], line 1\u001b[0m\n\u001b[1;32m----> 1\u001b[0m z \u001b[38;5;241m=\u001b[39m np\u001b[38;5;241m.\u001b[39mconcatenate((x,v),axis\u001b[38;5;241m=\u001b[39m\u001b[38;5;241m1\u001b[39m)\n\u001b[0;32m      3\u001b[0m \u001b[38;5;28mprint\u001b[39m(\u001b[38;5;124m\"\u001b[39m\u001b[38;5;124mZ: \u001b[39m\u001b[38;5;124m\"\u001b[39m,z)\n",
      "\u001b[1;31mValueError\u001b[0m: all the input arrays must have same number of dimensions, but the array at index 0 has 2 dimension(s) and the array at index 1 has 1 dimension(s)"
     ]
    }
   ],
   "source": [
    "z = np.concatenate((x,v),axis=1)\n",
    "\n",
    "print(\"Z: \",z)"
   ]
  },
  {
   "cell_type": "markdown",
   "id": "6d1d3ce8-d55f-4bda-8886-5ae5d7a020bf",
   "metadata": {},
   "source": [
    "np.concatenates require all arrays to have the same number of dimension when concatenating along axis. but we have 2d and 1d array so they are showing problem. We can solve these by adjusting dimensions like we can use reshape function to convertv from 1d to 2d and it will be available to concatenate"
   ]
  },
  {
   "cell_type": "code",
   "execution_count": 413,
   "id": "0dc0677c-3dc7-4c46-bb68-f2ee17649c1b",
   "metadata": {},
   "outputs": [
    {
     "name": "stdout",
     "output_type": "stream",
     "text": [
      "Z:  [[ 1  2  9]\n",
      " [ 3  5 10]]\n"
     ]
    }
   ],
   "source": [
    "v = v.reshape(-1,1)\n",
    "z = np.concatenate((x,v),axis=1)\n",
    "\n",
    "print(\"Z: \",z)"
   ]
  },
  {
   "cell_type": "markdown",
   "id": "47b9bb28-3c31-439d-b898-6243eb631df3",
   "metadata": {},
   "source": [
    "# Problem - 4: Matrix Operations:"
   ]
  },
  {
   "cell_type": "markdown",
   "id": "25c9129f-1dbc-46d9-817e-0cc4994dfd3e",
   "metadata": {},
   "source": [
    "For the following arrays:\n",
    "A = np.array([[3,4],[7,8]]) and B = np.array([[5,3],[2,1]]);\n",
    "Prove following with Numpy:\n",
    "1. Prove A.A−1 = I.\n",
    "2. Prove AB ̸= BA.\n",
    "3. Prove (AB)\n",
    "\n",
    "T = BTAT"
   ]
  },
  {
   "cell_type": "code",
   "execution_count": 415,
   "id": "6f717ea9-ca88-4085-8f2c-c06482b60cda",
   "metadata": {},
   "outputs": [],
   "source": [
    "A = np.array([[3,4],[7,8]]) \n",
    "B = np.array([[5,3],[2,1]])\n"
   ]
  },
  {
   "cell_type": "code",
   "execution_count": 421,
   "id": "0ae4e1ac-2247-4c28-8a1b-128fe2826173",
   "metadata": {},
   "outputs": [
    {
     "name": "stdout",
     "output_type": "stream",
     "text": [
      "A * A^-1 (should be identity matrix):\n",
      "[[1.0000000e+00 4.4408921e-16]\n",
      " [0.0000000e+00 1.0000000e+00]]\n",
      "\n",
      "Is the result the identity matrix?\n",
      "True\n"
     ]
    }
   ],
   "source": [
    "# Calculate the inverse of A\n",
    "A_inv = np.linalg.inv(A)\n",
    "\n",
    "# Multiply A with its inverse\n",
    "identity_matrix = np.dot(A, A_inv)\n",
    "\n",
    "print(\"A * A^-1 (should be identity matrix):\")\n",
    "print(identity_matrix)\n",
    "\n",
    "# Check if the result is an identity matrix\n",
    "print(\"\\nIs the result the identity matrix?\")\n",
    "print(np.allclose(identity_matrix, np.eye(2)))  # Should return True if it's close to identity matrix\n"
   ]
  },
  {
   "cell_type": "code",
   "execution_count": 431,
   "id": "0a061470-3983-4e8a-b6de-bbccb846ad65",
   "metadata": {},
   "outputs": [
    {
     "name": "stdout",
     "output_type": "stream",
     "text": [
      "AB: \n",
      "[[23 13]\n",
      " [51 29]]\n",
      "BA: \n",
      "[[36 44]\n",
      " [13 16]]\n",
      "\n",
      " Is AB and BA equal?: \n",
      "False\n",
      "Hence Proved AB ̸= BA\n"
     ]
    }
   ],
   "source": [
    "AB= np.dot(A,B)\n",
    "BA = np.dot(B,A)\n",
    "print(\"AB: \")\n",
    "print(AB)\n",
    "print(\"BA: \")\n",
    "print(BA)\n",
    "\n",
    "is_equal = np.array_equal(AB,BA)\n",
    "print(\"\\n Is AB and BA equal?: \")\n",
    "print(is_equal)\n",
    "print(\"Hence Proved AB ̸= BA\")"
   ]
  },
  {
   "cell_type": "code",
   "execution_count": 437,
   "id": "6deb9ca7-679e-4cd8-80c9-5a91ef05174f",
   "metadata": {},
   "outputs": [
    {
     "name": "stdout",
     "output_type": "stream",
     "text": [
      "AB transpose:  [[23 51]\n",
      " [13 29]]\n",
      "\n",
      " A transpose:  [[3 7]\n",
      " [4 8]]\n",
      "\n",
      " B transpose:  [[5 2]\n",
      " [3 1]]\n",
      "\n",
      " BTAT is:  [[23 51]\n",
      " [13 29]]\n",
      "Is (AB)T and BTAT equal\n",
      "True\n"
     ]
    }
   ],
   "source": [
    "AB= np.dot(A,B)\n",
    "ABt = np.transpose(AB)\n",
    "\n",
    "At = np.transpose(A)\n",
    "Bt = np.transpose(B)\n",
    "BtAt = np.dot(Bt,At)\n",
    "print(\"AB transpose: \",ABt)\n",
    "print(\"\\n A transpose: \",At)\n",
    "print(\"\\n B transpose: \",Bt)\n",
    "print(\"\\n BTAT is: \", BtAt)\n",
    "\n",
    "is_equal = np.array_equal(ABt,BtAt)\n",
    "print(\"Is (AB)T and BTAT equal\")\n",
    "print(is_equal)"
   ]
  },
  {
   "cell_type": "markdown",
   "id": "2c775d2f-19e0-4e1a-9a50-da8328ae1a40",
   "metadata": {},
   "source": [
    "Solve the following system of Linear equation using Inverse Methods.\n",
    "\n",
    "2x − 3y + z = −1\n",
    "x − y + 2z = −3\n",
    "3x + y − z = 9\n",
    "\n",
    "{Hint: First use Numpy array to represent the equation in Matrix form. Then Solve for: AX = B}"
   ]
  },
  {
   "cell_type": "code",
   "execution_count": 451,
   "id": "76a76f41-8520-4d62-8ff4-41b28a159b3d",
   "metadata": {},
   "outputs": [
    {
     "name": "stdout",
     "output_type": "stream",
     "text": [
      "Solution for (X,Y,Z):  [ 2.  1. -2.]\n",
      "\n",
      " solution for (X,Y,Z0:  [ 2.  1. -2.]\n"
     ]
    }
   ],
   "source": [
    "A = np.array([[2,-3,1],\n",
    "              [1,-1,2],\n",
    "              [3,1,-1]])\n",
    "B = np.array([-1,-3,9])\n",
    "\n",
    "A_inv = np.linalg.inv(A)\n",
    "\n",
    "X = np.dot(A_inv,B)\n",
    "\n",
    "X_solve = np.linalg.solve(A, B)\n",
    "print(\"Solution for (X,Y,Z): \",X)\n",
    "print(\"\\n solution for (X,Y,Z0: \",X_solve)"
   ]
  },
  {
   "cell_type": "markdown",
   "id": "8fbe7b25-cba7-4ff5-9f49-d5aebd06b2b0",
   "metadata": {},
   "source": [
    "The np.linalg module in NumPy is specifically designed for linear algebra operations. It provides a collection of functions for solving various types of problems that arise in linear algebra, such as solving systems of linear equations, finding the inverse of a matrix, computing determinants, eigenvalues, and eigenvectors, etc.\n",
    "\n",
    "Here are the key functions and concepts in np.linalg:\n",
    "1. np.linalg.inv(A): Matrix Inverse\n",
    "\n",
    "    Purpose: Computes the inverse of a square matrix AA, if it exists.\n",
    "    Use case: Often used for solving linear systems or computing transformations.\n",
    "    Example:\n",
    "\n",
    "    A_inv = np.linalg.inv(A)\n",
    "\n",
    "        If AA is a 2x2 matrix, A−1A−1 is its inverse, provided the determinant of AA is non-zero.\n",
    "\n",
    "2. np.linalg.solve(A, B): Solve Linear Equation\n",
    "\n",
    "    Purpose: Solves the equation A⋅X=BA⋅X=B for XX, where AA is a square matrix and BB is a vector (or matrix).\n",
    "    Use case: Directly solves a system of linear equations without computing the inverse manually.\n",
    "    Example:\n",
    "\n",
    "    X = np.linalg.solve(A, B)\n",
    "\n",
    "        This function is numerically more stable than manually computing the inverse and then multiplying by BB.\n",
    "\n",
    "3. np.linalg.det(A): Determinant of a Matrix\n",
    "\n",
    "    Purpose: Computes the determinant of a square matrix.\n",
    "    Use case: The determinant is used to determine if a matrix is invertible (non-zero determinant) or singular (zero determinant).\n",
    "    Example:\n",
    "\n",
    "    determinant = np.linalg.det(A)\n",
    "\n",
    "        A determinant of zero indicates that the matrix is singular and doesn't have an inverse.\n",
    "\n",
    "4. np.linalg.eig(A): Eigenvalues and Eigenvectors\n",
    "\n",
    "    Purpose: Computes the eigenvalues and eigenvectors of a square matrix.\n",
    "    Use case: Used in areas like physics, machine learning (PCA), and statistics.\n",
    "    Example:\n",
    "\n",
    "    eigenvalues, eigenvectors = np.linalg.eig(A)\n",
    "\n",
    "        Eigenvalues give the magnitude of scaling in each principal direction, and eigenvectors represent the directions of these scalings.\n",
    "\n",
    "5. np.linalg.norm(x): Matrix or Vector Norm\n",
    "\n",
    "    Purpose: Computes the norm (magnitude) of a vector or matrix.\n",
    "    Use case: Used for measuring vector magnitudes or the \"size\" of matrices.\n",
    "    Example:\n",
    "\n",
    "    norm_value = np.linalg.norm(x)\n",
    "\n",
    "6. np.linalg.matrix_rank(A): Rank of a Matrix\n",
    "\n",
    "    Purpose: Computes the rank of a matrix (the dimension of the vector space spanned by its rows or columns).\n",
    "    Use case: Helps in determining the linear independence of rows or columns and is used in solving linear systems.\n",
    "    Example:\n",
    "\n",
    "    rank = np.linalg.matrix_rank(A)\n",
    "\n",
    "7. np.linalg.cholesky(A): Cholesky Decomposition\n",
    "\n",
    "    Purpose: Computes the Cholesky decomposition of a positive-definite matrix.\n",
    "    Use case: Used in optimization and solving systems of equations.\n",
    "    Example:\n",
    "\n",
    "    L = np.linalg.cholesky(A)\n",
    "\n",
    "8. np.linalg.svd(A): Singular Value Decomposition\n",
    "\n",
    "    Purpose: Computes the Singular Value Decomposition (SVD) of a matrix.\n",
    "    Use case: SVD is widely used in signal processing, data compression, and dimensionality reduction (e.g., PCA).\n",
    "    Example:\n",
    "\n",
    "    U, S, Vt = np.linalg.svd(A)\n",
    "\n",
    "9. np.linalg.lstsq(A, B): Least Squares Solution\n",
    "\n",
    "    Purpose: Solves the least squares problem for over-determined systems.\n",
    "    Use case: Used when you have more equations than unknowns (i.e., an over-determined system).\n",
    "    Example:\n",
    "\n",
    "X, residuals, rank, s = np.linalg.lstsq(A, B, rcond=None)"
   ]
  }
 ],
 "metadata": {
  "kernelspec": {
   "display_name": "Python [conda env:base] *",
   "language": "python",
   "name": "conda-base-py"
  },
  "language_info": {
   "codemirror_mode": {
    "name": "ipython",
    "version": 3
   },
   "file_extension": ".py",
   "mimetype": "text/x-python",
   "name": "python",
   "nbconvert_exporter": "python",
   "pygments_lexer": "ipython3",
   "version": "3.12.7"
  }
 },
 "nbformat": 4,
 "nbformat_minor": 5
}
